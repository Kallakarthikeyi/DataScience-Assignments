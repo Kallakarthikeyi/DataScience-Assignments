{
 "cells": [
  {
   "cell_type": "code",
   "execution_count": 1,
   "id": "6eb7b864",
   "metadata": {},
   "outputs": [],
   "source": [
    "import numpy as np"
   ]
  },
  {
   "cell_type": "code",
   "execution_count": 16,
   "id": "e4a40b77",
   "metadata": {},
   "outputs": [
    {
     "name": "stdout",
     "output_type": "stream",
     "text": [
      "(3, 3)\n",
      "[[ 9  0  0]\n",
      " [ 2  3 10]\n",
      " [ 1  7 10]]\n"
     ]
    }
   ],
   "source": [
    "#create a 3x3 array filled with random integers btw 0 an 10\n",
    "arr=np.random.randint(0,11,(3,3))\n",
    "print(arr.shape)\n",
    "print(arr)"
   ]
  },
  {
   "cell_type": "code",
   "execution_count": 23,
   "id": "5a6ce03e",
   "metadata": {},
   "outputs": [
    {
     "name": "stdout",
     "output_type": "stream",
     "text": [
      "array:\n",
      " [ 1  2  3  4  5  6  7  8  9 10]\n",
      "cumulative sum:\n",
      "[ 1  3  6 10 15 21 28 36 45 55]\n"
     ]
    }
   ],
   "source": [
    "#create a 1D array of 10 elements and compute the cumulative sum\n",
    "a=np.arange(1,11)\n",
    "print('array:\\n',a)\n",
    "print(\"cumulative sum:\")\n",
    "print(np.cumsum(a))"
   ]
  },
  {
   "cell_type": "code",
   "execution_count": 26,
   "id": "67f3ec0d",
   "metadata": {},
   "outputs": [
    {
     "name": "stdout",
     "output_type": "stream",
     "text": [
      "[[6 9 6]\n",
      " [4 5 4]] [[2 4 7]\n",
      " [9 5 1]]\n",
      "addition: [[ 8 13 13]\n",
      " [13 10  5]]\n",
      "subtraction: [[ 4  5 -1]\n",
      " [-5  0  3]]\n",
      "multiplication: [[12 36 42]\n",
      " [36 25  4]]\n",
      "division: [[3.         2.25       0.85714286]\n",
      " [0.44444444 1.         4.        ]]\n"
     ]
    }
   ],
   "source": [
    "#generate two 2x3 arrays with random integers and perform element wise operations\n",
    "a1=np.random.randint(0,10,(2,3))\n",
    "a2=np.random.randint(0,10,(2,3))\n",
    "print(a1,a2)\n",
    "print(\"addition:\",a1+a2)\n",
    "print(\"subtraction:\",a1-a2)\n",
    "print(\"multiplication:\",a1*a2)\n",
    "print(\"division:\",a1/a2)"
   ]
  },
  {
   "cell_type": "code",
   "execution_count": 28,
   "id": "5539ed43",
   "metadata": {},
   "outputs": [
    {
     "name": "stdout",
     "output_type": "stream",
     "text": [
      "identity matrix:\n",
      " [[1. 0. 0. 0.]\n",
      " [0. 1. 0. 0.]\n",
      " [0. 0. 1. 0.]\n",
      " [0. 0. 0. 1.]]\n"
     ]
    }
   ],
   "source": [
    "#create 4x4 identity matrix\n",
    "i=np.eye(4)\n",
    "print(\"identity matrix:\\n\",i)"
   ]
  },
  {
   "cell_type": "code",
   "execution_count": 29,
   "id": "82def4ed",
   "metadata": {},
   "outputs": [
    {
     "name": "stdout",
     "output_type": "stream",
     "text": [
      "\n",
      "Divided by 5: [1. 2. 3. 4. 5.]\n"
     ]
    }
   ],
   "source": [
    "#Given an array a = np.array([5, 10, 15, 20, 25]), divide each element by 5 using broadcasting.\n",
    "a = np.array([5, 10, 15, 20, 25])\n",
    "print(\"\\nDivided by 5:\", a / 5)"
   ]
  },
  {
   "cell_type": "markdown",
   "id": "fd118aec",
   "metadata": {},
   "source": [
    "### Basic Array Operations:\n",
    "1. Create a 3x3 array filled with random integers between 0 and 10. Calculate the sum, mean, and standard deviation of the array.\n",
    "2. Create a 1D array of 10 elements and compute the cumulative sum of the elements.\n",
    "3. Generate two 2x3 arrays with random integers and perform element-wise addition, subtraction, multiplication, and division.\n",
    "4. Create a 4x4 identity matrix.\n",
    "5. *Given an array a = np.array([5, 10, 15, 20, 25]), divide each element by 5 using broadcasting.*\n",
    "\n",
    "### Array Manipulation:\n",
    "6. Reshape a 1D array of 12 elements into a 3x4 matrix.\n",
    "7. Flatten a 3x3 matrix into a 1D array.\n",
    "8. Stack two 3x3 matrices horizontally and vertically.\n",
    "9. Concatenate two arrays of different sizes along a new axis.\n",
    "10. Transpose a 3x2 matrix and then reshape it to have 3 rows and 2 columns.\n",
    "\n",
    "### Indexing and Slicing:\n",
    "11. Given a 1D array of 15 elements, extract elements at positions 2 to 10 with a step of 2.\n",
    "12. Create a 5x5 matrix and extract the sub-matrix containing elements from rows 1 to 3 and columns 2 to 4.\n",
    "13. Replace all elements in a 1D array greater than 10 with the value 10.\n",
    "14. *Use fancy indexing to select elements from a 1D array at positions [0, 2, 4, 6].*\n",
    "15. Create a 1D array of 10 elements and reverse it using slicing.\n",
    "\n",
    "### Broadcasting:\n",
    "16. Create a 3x3 matrix and add a 1x3 array to each row using broadcasting.\n",
    "17. Multiply a 1D array of 5 elements by a scalar value using broadcasting.\n",
    "18. Subtract a 3x1 column vector from a 3x3 matrix using broadcasting.\n",
    "19. Add a scalar to a 3D array and demonstrate how broadcasting works across all dimensions.\n",
    "20. *Create two arrays of shapes (4, 1) and (1, 5) and add them using broadcasting.*\n",
    "\n",
    "### Vectorized Operations:\n",
    "21. Compute the square root of each element in a 2D array using vectorized operations.\n",
    "22. Calculate the dot product of two 1D arrays of size 5.\n",
    "23. Perform element-wise comparison of two 1D arrays and return an array of boolean values indicating where the first array has larger elements.\n",
    "24. Create a 2D array and apply a vectorized operation to double the value of each element.\n",
    "25. Create a 1D array of 100 random integers and compute the sum of all even numbers using vectorized operations.\n",
    "\n",
    "### Linear Algebra:\n",
    "26. Create a 3x3 matrix and find its determinant.\n",
    "27. Given a 2x2 matrix, compute its inverse and verify by multiplying with the original matrix to obtain the identity matrix.\n",
    "28. Calculate the eigenvalues and eigenvectors of a 2x2 matrix.\n",
    "29. *Solve the system of linear equations 2x + 3y = 5 and 4x + 6y = 10 using NumPy.*\n",
    "30. Perform Singular Value Decomposition (SVD) on a 3x3 matrix and reconstruct the original matrix using the SVD components.\n",
    "Givecodes to them in python "
   ]
  },
  {
   "cell_type": "code",
   "execution_count": 31,
   "id": "989b7ba8",
   "metadata": {},
   "outputs": [
    {
     "name": "stdout",
     "output_type": "stream",
     "text": [
      "[[ 0  1  2  3]\n",
      " [ 4  5  6  7]\n",
      " [ 8  9 10 11]]\n"
     ]
    }
   ],
   "source": [
    "#Reshape a 1D array of 12 elements into a 3x4 matrix.\n",
    "a3=np.arange(12)\n",
    "r=a3.reshape(3,4)\n",
    "print(r)"
   ]
  },
  {
   "cell_type": "code",
   "execution_count": 34,
   "id": "13e9a894",
   "metadata": {},
   "outputs": [
    {
     "name": "stdout",
     "output_type": "stream",
     "text": [
      "[ 0  1  2  3  4  5  6  7  8  9 10 11]\n"
     ]
    }
   ],
   "source": [
    "#Flatten a 3x3 matrix into a 1D array.\n",
    "f=r.flatten()\n",
    "print(f)"
   ]
  },
  {
   "cell_type": "code",
   "execution_count": 37,
   "id": "5fb5c516",
   "metadata": {},
   "outputs": [
    {
     "name": "stdout",
     "output_type": "stream",
     "text": [
      "horizontal stack:\n",
      " [[0 0 5 1 0 7]\n",
      " [5 1 8 7 3 5]\n",
      " [0 4 3 6 2 0]]\n",
      "vertical stack:\n",
      " [[0 0 5]\n",
      " [5 1 8]\n",
      " [0 4 3]\n",
      " [1 0 7]\n",
      " [7 3 5]\n",
      " [6 2 0]]\n"
     ]
    }
   ],
   "source": [
    "#Stack two 3x3 matrices horizontally and vertically.\n",
    "a4=np.random.randint(0,10,(3,3))\n",
    "a5=np.random.randint(0,10,(3,3))\n",
    "print(\"horizontal stack:\\n\",np.hstack((a4,a5)))\n",
    "print(\"vertical stack:\\n\",np.vstack((a4,a5)))"
   ]
  },
  {
   "cell_type": "code",
   "execution_count": 46,
   "id": "1d76967e",
   "metadata": {},
   "outputs": [
    {
     "data": {
      "text/plain": [
       "array([1, 2, 3, 3, 4])"
      ]
     },
     "execution_count": 46,
     "metadata": {},
     "output_type": "execute_result"
    }
   ],
   "source": [
    "#Concatenate two arrays of different sizes along a new axis.\n",
    "a6=np.array([1,2,3])\n",
    "a7=np.array([3,4])\n",
    "np.concatenate((a6,a7),axis=0)"
   ]
  },
  {
   "cell_type": "code",
   "execution_count": 48,
   "id": "69c45d1a",
   "metadata": {},
   "outputs": [
    {
     "name": "stdout",
     "output_type": "stream",
     "text": [
      "[[0 0 1]\n",
      " [1 2 4]]\n",
      "transposed:\n",
      " [[0 1]\n",
      " [0 2]\n",
      " [1 4]]\n"
     ]
    }
   ],
   "source": [
    "#Transpose a 3x2 matrix and then reshape it to have 3 rows and 2 columns.\n",
    "t=np.array([[0,0,1],[1,2,4]])\n",
    "print(t)\n",
    "print(\"transposed:\\n\",t.T)"
   ]
  },
  {
   "cell_type": "code",
   "execution_count": 49,
   "id": "f5fbaef3",
   "metadata": {},
   "outputs": [
    {
     "data": {
      "text/plain": [
       "array([ 2,  4,  6,  8, 10])"
      ]
     },
     "execution_count": 49,
     "metadata": {},
     "output_type": "execute_result"
    }
   ],
   "source": [
    "#Given a 1D array of 15 elements, extract elements at positions 2 to 10 with a step of 2.\n",
    "f=np.arange(0,16)\n",
    "f[2:11:2]"
   ]
  },
  {
   "cell_type": "code",
   "execution_count": 54,
   "id": "321d3c15",
   "metadata": {},
   "outputs": [
    {
     "name": "stdout",
     "output_type": "stream",
     "text": [
      "\n",
      "5x5 Matrix:\n",
      " [[97 73 48 79 49]\n",
      " [43 76 98 15 31]\n",
      " [71 28  6 98 55]\n",
      " [14 34 36 16 22]\n",
      " [64 26 70 75 59]]\n",
      "Sub-matrix:\n",
      " [[98 15 31]\n",
      " [ 6 98 55]\n",
      " [36 16 22]]\n"
     ]
    }
   ],
   "source": [
    "#Create a 5x5 matrix and extract the sub-matrix containing elements from rows 1 to 3 and columns 2 to 4.\n",
    "ar = np.random.randint(0, 100, (5, 5))\n",
    "print(\"\\n5x5 Matrix:\\n\", ar)\n",
    "print(\"Sub-matrix:\\n\", ar[1:4, 2:5])"
   ]
  },
  {
   "cell_type": "code",
   "execution_count": 55,
   "id": "538b4a6b",
   "metadata": {},
   "outputs": [
    {
     "name": "stdout",
     "output_type": "stream",
     "text": [
      "[[10 10 10 10 10]\n",
      " [10 10 10 10 10]\n",
      " [10 10  6 10 10]\n",
      " [10 10 10 10 10]\n",
      " [10 10 10 10 10]]\n"
     ]
    }
   ],
   "source": [
    "#Replace all elements in a 1D array greater than 10 with the value 10.\n",
    "ar[ar>10]=10\n",
    "print(ar)"
   ]
  },
  {
   "cell_type": "code",
   "execution_count": 61,
   "id": "b9e884be",
   "metadata": {},
   "outputs": [
    {
     "data": {
      "text/plain": [
       "array([4, 9, 8, 8])"
      ]
     },
     "execution_count": 61,
     "metadata": {},
     "output_type": "execute_result"
    }
   ],
   "source": [
    "#Use fancy indexing to select elements from a 1D array at positions [0, 2, 4, 6].\n",
    "fi=np.random.randint(0,10,(10,))\n",
    "fi[[0,2,4,6]]\n"
   ]
  },
  {
   "cell_type": "code",
   "execution_count": 62,
   "id": "057a7eaa",
   "metadata": {},
   "outputs": [
    {
     "data": {
      "text/plain": [
       "array([6, 5, 6, 4, 4, 3, 6, 2, 7, 1])"
      ]
     },
     "execution_count": 62,
     "metadata": {},
     "output_type": "execute_result"
    }
   ],
   "source": [
    "#Create a 1D array of 10 elements and reverse it using slicing.\n",
    "fi=np.random.randint(0,10,(10,))\n",
    "fi[::-1]"
   ]
  },
  {
   "cell_type": "code",
   "execution_count": 63,
   "id": "41a8c039",
   "metadata": {},
   "outputs": [
    {
     "name": "stdout",
     "output_type": "stream",
     "text": [
      "\n",
      "Broadcasted Addition:\n",
      " [[ 1  6 10]\n",
      " [ 7  9  3]\n",
      " [ 3  3 10]]\n"
     ]
    }
   ],
   "source": [
    "#Create a 3x3 matrix and add a 1x3 array to each row using broadcasting.\n",
    "a = np.random.randint(0, 10, (3, 3))\n",
    "ar = np.array([1, 2, 3])\n",
    "print(\"\\nBroadcasted Addition:\\n\", a + ar)"
   ]
  },
  {
   "cell_type": "code",
   "execution_count": 64,
   "id": "3711fc71",
   "metadata": {},
   "outputs": [
    {
     "data": {
      "text/plain": [
       "array([ 5, 10, 15])"
      ]
     },
     "execution_count": 64,
     "metadata": {},
     "output_type": "execute_result"
    }
   ],
   "source": [
    "#Multiply a 1D array of 5 elements by a scalar value using broadcasting.\n",
    "ar*5"
   ]
  },
  {
   "cell_type": "code",
   "execution_count": 68,
   "id": "5ec1555a",
   "metadata": {},
   "outputs": [
    {
     "name": "stdout",
     "output_type": "stream",
     "text": [
      "[[0 6 3]\n",
      " [3 8 4]\n",
      " [0 6 3]]\n",
      "[[1]\n",
      " [2]\n",
      " [3]]\n",
      "\n",
      "Broadcasted Subtraction:\n",
      " [[-1  5  2]\n",
      " [ 1  6  2]\n",
      " [-3  3  0]]\n"
     ]
    }
   ],
   "source": [
    "#Subtract a 3x1 column vector from a 3x3 matrix using broadcasting.\n",
    "o = np.random.randint(0, 10, (3, 3))\n",
    "t = np.array([[1], [2], [3]])\n",
    "print(o)\n",
    "print(t)\n",
    "print(\"\\nBroadcasted Subtraction:\\n\", o-t)"
   ]
  },
  {
   "cell_type": "code",
   "execution_count": 69,
   "id": "0177d626",
   "metadata": {},
   "outputs": [
    {
     "name": "stdout",
     "output_type": "stream",
     "text": [
      "[[20 26 23]\n",
      " [23 28 24]\n",
      " [20 26 23]]\n"
     ]
    }
   ],
   "source": [
    "#Add a scalar to a 3D array and demonstrate how broadcasting works across all dimensions.\n",
    "print(o+20)"
   ]
  },
  {
   "cell_type": "code",
   "execution_count": 70,
   "id": "8d9ebde8",
   "metadata": {},
   "outputs": [
    {
     "name": "stdout",
     "output_type": "stream",
     "text": [
      "\n",
      "Broadcasted Addition:\n",
      " [[0 1 2 3 4]\n",
      " [1 2 3 4 5]\n",
      " [2 3 4 5 6]\n",
      " [3 4 5 6 7]]\n"
     ]
    }
   ],
   "source": [
    "#Create two arrays of shapes (4, 1) and (1, 5) and add them using broadcasting.\n",
    "f = np.arange(4).reshape(4, 1)\n",
    "o = np.arange(5).reshape(1, 5)\n",
    "print(\"\\nBroadcasted Addition:\\n\", f + o)"
   ]
  },
  {
   "cell_type": "code",
   "execution_count": 71,
   "id": "aadcad3a",
   "metadata": {},
   "outputs": [
    {
     "name": "stdout",
     "output_type": "stream",
     "text": [
      "[[4.69041576 8.94427191 9.53939201]\n",
      " [1.         9.16515139 4.69041576]]\n"
     ]
    }
   ],
   "source": [
    "#Compute the square root of each element in a 2D array using vectorized operations.\n",
    "sq=np.random.randint(1,100,(2,3))\n",
    "print(np.sqrt(sq))"
   ]
  },
  {
   "cell_type": "code",
   "execution_count": 82,
   "id": "92bbecdb",
   "metadata": {},
   "outputs": [
    {
     "data": {
      "text/plain": [
       "56"
      ]
     },
     "execution_count": 82,
     "metadata": {},
     "output_type": "execute_result"
    }
   ],
   "source": [
    "#Calculate the dot product of two 1D arrays of size 5.\n",
    "d1=np.array([2,2,4,6,7])\n",
    "d2=np.arange(0,5)\n",
    "np.dot(d1,d2)"
   ]
  },
  {
   "cell_type": "code",
   "execution_count": 83,
   "id": "94cacfc7",
   "metadata": {},
   "outputs": [
    {
     "name": "stdout",
     "output_type": "stream",
     "text": [
      "[ True  True  True  True  True]\n"
     ]
    }
   ],
   "source": [
    "#Perform element-wise comparison of two 1D arrays and return an array of boolean values indicating where the first array has larger elements.\n",
    "print(d1>d2)"
   ]
  },
  {
   "cell_type": "code",
   "execution_count": 84,
   "id": "de529df9",
   "metadata": {},
   "outputs": [
    {
     "data": {
      "text/plain": [
       "array([[146,  42, 106],\n",
       "       [ 34, 172, 108]])"
      ]
     },
     "execution_count": 84,
     "metadata": {},
     "output_type": "execute_result"
    }
   ],
   "source": [
    "#Create a 2D array and apply a vectorized operation to double the value of each element.\n",
    "sq=np.random.randint(1,100,(2,3))\n",
    "sq*2"
   ]
  },
  {
   "cell_type": "code",
   "execution_count": 86,
   "id": "f34efb4e",
   "metadata": {},
   "outputs": [
    {
     "data": {
      "text/plain": [
       "2450"
      ]
     },
     "execution_count": 86,
     "metadata": {},
     "output_type": "execute_result"
    }
   ],
   "source": [
    "#Create a 1D array of 100 random integers and compute the sum of all even numbers using vectorized operations.\n",
    "h=np.arange(0,100)\n",
    "np.sum(h[h%2==0])\n"
   ]
  },
  {
   "cell_type": "code",
   "execution_count": 87,
   "id": "e7dd0f9e",
   "metadata": {},
   "outputs": [
    {
     "data": {
      "text/plain": [
       "-361516.0000000003"
      ]
     },
     "execution_count": 87,
     "metadata": {},
     "output_type": "execute_result"
    }
   ],
   "source": [
    "#Create a 3x3 matrix and find its determinant.\n",
    "h=np.random.randint(0,100,(3,3))\n",
    "np.linalg.det(h)\n"
   ]
  },
  {
   "cell_type": "code",
   "execution_count": 89,
   "id": "14345079",
   "metadata": {},
   "outputs": [
    {
     "name": "stdout",
     "output_type": "stream",
     "text": [
      "\n",
      "Inverse Matrix:\n",
      " [[ 0.6 -0.7]\n",
      " [-0.2  0.4]]\n",
      "Verification:\n",
      " [[ 1.00000000e+00  0.00000000e+00]\n",
      " [-2.22044605e-16  1.00000000e+00]]\n"
     ]
    }
   ],
   "source": [
    "#Given a 2x2 matrix, compute its inverse and verify by multiplying with the original matrix to obtain the identity matrix.\n",
    "i = np.array([[4, 7], [2, 6]])\n",
    "inverse = np.linalg.inv(i)\n",
    "print(\"\\nInverse Matrix:\\n\", inverse)\n",
    "print(\"Verification:\\n\", np.dot(i, inverse))\n"
   ]
  },
  {
   "cell_type": "code",
   "execution_count": 91,
   "id": "bd8eaab5",
   "metadata": {},
   "outputs": [
    {
     "name": "stdout",
     "output_type": "stream",
     "text": [
      "\n",
      "Eigenvalues: [1.12701665 8.87298335]\n",
      "Eigenvectors:\n",
      " [[-0.92511345 -0.82071729]\n",
      " [ 0.37969079 -0.57133452]]\n"
     ]
    }
   ],
   "source": [
    "#Calculate the eigenvalues and eigenvectors of a 2x2 matrix.\n",
    "val, vec = np.linalg.eig(i)\n",
    "print(\"\\nEigenvalues:\", val)\n",
    "print(\"Eigenvectors:\\n\", vec)"
   ]
  },
  {
   "cell_type": "code",
   "execution_count": 92,
   "id": "a99a6a8b",
   "metadata": {},
   "outputs": [
    {
     "ename": "LinAlgError",
     "evalue": "Singular matrix",
     "output_type": "error",
     "traceback": [
      "\u001b[1;31m---------------------------------------------------------------------------\u001b[0m",
      "\u001b[1;31mLinAlgError\u001b[0m                               Traceback (most recent call last)",
      "Cell \u001b[1;32mIn[92], line 4\u001b[0m\n\u001b[0;32m      2\u001b[0m coefficients \u001b[38;5;241m=\u001b[39m np\u001b[38;5;241m.\u001b[39marray([[\u001b[38;5;241m2\u001b[39m, \u001b[38;5;241m3\u001b[39m], [\u001b[38;5;241m4\u001b[39m, \u001b[38;5;241m6\u001b[39m]])\n\u001b[0;32m      3\u001b[0m constants \u001b[38;5;241m=\u001b[39m np\u001b[38;5;241m.\u001b[39marray([\u001b[38;5;241m5\u001b[39m, \u001b[38;5;241m10\u001b[39m])\n\u001b[1;32m----> 4\u001b[0m solution \u001b[38;5;241m=\u001b[39m np\u001b[38;5;241m.\u001b[39mlinalg\u001b[38;5;241m.\u001b[39msolve(coefficients, constants)\n\u001b[0;32m      5\u001b[0m \u001b[38;5;28mprint\u001b[39m(\u001b[38;5;124m\"\u001b[39m\u001b[38;5;130;01m\\n\u001b[39;00m\u001b[38;5;124mSolution to Equations:\u001b[39m\u001b[38;5;124m\"\u001b[39m, solution)\n",
      "File \u001b[1;32m<__array_function__ internals>:200\u001b[0m, in \u001b[0;36msolve\u001b[1;34m(*args, **kwargs)\u001b[0m\n",
      "File \u001b[1;32m~\\anaconda3\\Lib\\site-packages\\numpy\\linalg\\linalg.py:386\u001b[0m, in \u001b[0;36msolve\u001b[1;34m(a, b)\u001b[0m\n\u001b[0;32m    384\u001b[0m signature \u001b[38;5;241m=\u001b[39m \u001b[38;5;124m'\u001b[39m\u001b[38;5;124mDD->D\u001b[39m\u001b[38;5;124m'\u001b[39m \u001b[38;5;28;01mif\u001b[39;00m isComplexType(t) \u001b[38;5;28;01melse\u001b[39;00m \u001b[38;5;124m'\u001b[39m\u001b[38;5;124mdd->d\u001b[39m\u001b[38;5;124m'\u001b[39m\n\u001b[0;32m    385\u001b[0m extobj \u001b[38;5;241m=\u001b[39m get_linalg_error_extobj(_raise_linalgerror_singular)\n\u001b[1;32m--> 386\u001b[0m r \u001b[38;5;241m=\u001b[39m gufunc(a, b, signature\u001b[38;5;241m=\u001b[39msignature, extobj\u001b[38;5;241m=\u001b[39mextobj)\n\u001b[0;32m    388\u001b[0m \u001b[38;5;28;01mreturn\u001b[39;00m wrap(r\u001b[38;5;241m.\u001b[39mastype(result_t, copy\u001b[38;5;241m=\u001b[39m\u001b[38;5;28;01mFalse\u001b[39;00m))\n",
      "File \u001b[1;32m~\\anaconda3\\Lib\\site-packages\\numpy\\linalg\\linalg.py:89\u001b[0m, in \u001b[0;36m_raise_linalgerror_singular\u001b[1;34m(err, flag)\u001b[0m\n\u001b[0;32m     88\u001b[0m \u001b[38;5;28;01mdef\u001b[39;00m \u001b[38;5;21m_raise_linalgerror_singular\u001b[39m(err, flag):\n\u001b[1;32m---> 89\u001b[0m     \u001b[38;5;28;01mraise\u001b[39;00m LinAlgError(\u001b[38;5;124m\"\u001b[39m\u001b[38;5;124mSingular matrix\u001b[39m\u001b[38;5;124m\"\u001b[39m)\n",
      "\u001b[1;31mLinAlgError\u001b[0m: Singular matrix"
     ]
    }
   ],
   "source": [
    "#Solve the system of linear equations 2x + 3y = 5 and 4x + 6y = 10 using NumPy.\n",
    "coefficients = np.array([[2, 3], [4, 6]])\n",
    "constants = np.array([5, 10])\n",
    "solution = np.linalg.solve(coefficients, constants)\n",
    "print(\"\\nSolution to Equations:\", solution)"
   ]
  },
  {
   "cell_type": "code",
   "execution_count": 93,
   "id": "3eebc4ff",
   "metadata": {},
   "outputs": [
    {
     "ename": "NameError",
     "evalue": "name 'arr27' is not defined",
     "output_type": "error",
     "traceback": [
      "\u001b[1;31m---------------------------------------------------------------------------\u001b[0m",
      "\u001b[1;31mNameError\u001b[0m                                 Traceback (most recent call last)",
      "Cell \u001b[1;32mIn[93], line 2\u001b[0m\n\u001b[0;32m      1\u001b[0m \u001b[38;5;66;03m#Perform Singular Value Decomposition (SVD) on a 3x3 matrix and reconstruct the original matrix using the SVD components. Givecodes to them in python\u001b[39;00m\n\u001b[1;32m----> 2\u001b[0m U, S, V \u001b[38;5;241m=\u001b[39m np\u001b[38;5;241m.\u001b[39mlinalg\u001b[38;5;241m.\u001b[39msvd(arr27)\n\u001b[0;32m      3\u001b[0m reconstructed \u001b[38;5;241m=\u001b[39m U \u001b[38;5;241m@\u001b[39m np\u001b[38;5;241m.\u001b[39mdiag(S) \u001b[38;5;241m@\u001b[39m V\n\u001b[0;32m      4\u001b[0m \u001b[38;5;28mprint\u001b[39m(\u001b[38;5;124m\"\u001b[39m\u001b[38;5;130;01m\\n\u001b[39;00m\u001b[38;5;124mReconstructed Matrix:\u001b[39m\u001b[38;5;130;01m\\n\u001b[39;00m\u001b[38;5;124m\"\u001b[39m, reconstructed)\n",
      "\u001b[1;31mNameError\u001b[0m: name 'arr27' is not defined"
     ]
    }
   ],
   "source": [
    "#Perform Singular Value Decomposition (SVD) on a 3x3 matrix and reconstruct the original matrix using the SVD components. Givecodes to them in python\n",
    "U, S, V = np.linalg.svd(arr27)\n",
    "reconstructed = U @ np.diag(S) @ V\n",
    "print(\"\\nReconstructed Matrix:\\n\", reconstructed)"
   ]
  },
  {
   "cell_type": "code",
   "execution_count": null,
   "id": "e19714fd",
   "metadata": {},
   "outputs": [],
   "source": []
  },
  {
   "cell_type": "code",
   "execution_count": null,
   "id": "081596cb",
   "metadata": {},
   "outputs": [],
   "source": []
  },
  {
   "cell_type": "code",
   "execution_count": null,
   "id": "b4ff313e",
   "metadata": {},
   "outputs": [],
   "source": []
  },
  {
   "cell_type": "code",
   "execution_count": null,
   "id": "fcc88370",
   "metadata": {},
   "outputs": [],
   "source": []
  },
  {
   "cell_type": "code",
   "execution_count": null,
   "id": "c30a78b5",
   "metadata": {},
   "outputs": [],
   "source": []
  },
  {
   "cell_type": "code",
   "execution_count": null,
   "id": "62d4d2f9",
   "metadata": {},
   "outputs": [],
   "source": []
  },
  {
   "cell_type": "code",
   "execution_count": null,
   "id": "84eea23e",
   "metadata": {},
   "outputs": [],
   "source": []
  },
  {
   "cell_type": "code",
   "execution_count": null,
   "id": "c31412f4",
   "metadata": {},
   "outputs": [],
   "source": []
  },
  {
   "cell_type": "code",
   "execution_count": null,
   "id": "a5ebf09d",
   "metadata": {},
   "outputs": [],
   "source": []
  },
  {
   "cell_type": "code",
   "execution_count": null,
   "id": "04728674",
   "metadata": {},
   "outputs": [],
   "source": []
  },
  {
   "cell_type": "code",
   "execution_count": null,
   "id": "9f3031ed",
   "metadata": {},
   "outputs": [],
   "source": []
  },
  {
   "cell_type": "code",
   "execution_count": null,
   "id": "bdd2c614",
   "metadata": {},
   "outputs": [],
   "source": []
  },
  {
   "cell_type": "code",
   "execution_count": null,
   "id": "bdda4071",
   "metadata": {},
   "outputs": [],
   "source": []
  },
  {
   "cell_type": "code",
   "execution_count": null,
   "id": "7ef3fded",
   "metadata": {},
   "outputs": [],
   "source": []
  },
  {
   "cell_type": "code",
   "execution_count": null,
   "id": "21c9a849",
   "metadata": {},
   "outputs": [],
   "source": []
  },
  {
   "cell_type": "code",
   "execution_count": null,
   "id": "dccba1ee",
   "metadata": {},
   "outputs": [],
   "source": []
  },
  {
   "cell_type": "code",
   "execution_count": null,
   "id": "8f556ed4",
   "metadata": {},
   "outputs": [],
   "source": []
  },
  {
   "cell_type": "code",
   "execution_count": null,
   "id": "1b9d07b4",
   "metadata": {},
   "outputs": [],
   "source": []
  },
  {
   "cell_type": "code",
   "execution_count": null,
   "id": "7bf92a02",
   "metadata": {},
   "outputs": [],
   "source": []
  },
  {
   "cell_type": "code",
   "execution_count": null,
   "id": "1d53fa77",
   "metadata": {},
   "outputs": [],
   "source": []
  },
  {
   "cell_type": "code",
   "execution_count": null,
   "id": "babd7da6",
   "metadata": {},
   "outputs": [],
   "source": []
  },
  {
   "cell_type": "code",
   "execution_count": null,
   "id": "40ac9ad3",
   "metadata": {},
   "outputs": [],
   "source": []
  },
  {
   "cell_type": "code",
   "execution_count": null,
   "id": "0c72296b",
   "metadata": {},
   "outputs": [],
   "source": []
  },
  {
   "cell_type": "code",
   "execution_count": null,
   "id": "afbf58cb",
   "metadata": {},
   "outputs": [],
   "source": []
  },
  {
   "cell_type": "code",
   "execution_count": null,
   "id": "e8dafe75",
   "metadata": {},
   "outputs": [],
   "source": []
  },
  {
   "cell_type": "code",
   "execution_count": null,
   "id": "04f32877",
   "metadata": {},
   "outputs": [],
   "source": []
  },
  {
   "cell_type": "code",
   "execution_count": null,
   "id": "5cc4a282",
   "metadata": {},
   "outputs": [],
   "source": []
  },
  {
   "cell_type": "code",
   "execution_count": null,
   "id": "3c0c1cbb",
   "metadata": {},
   "outputs": [],
   "source": []
  },
  {
   "cell_type": "code",
   "execution_count": null,
   "id": "6ce4619f",
   "metadata": {},
   "outputs": [],
   "source": []
  },
  {
   "cell_type": "code",
   "execution_count": null,
   "id": "c8e6710e",
   "metadata": {},
   "outputs": [],
   "source": []
  },
  {
   "cell_type": "code",
   "execution_count": null,
   "id": "037bfd6d",
   "metadata": {},
   "outputs": [],
   "source": []
  },
  {
   "cell_type": "code",
   "execution_count": null,
   "id": "8a31348f",
   "metadata": {},
   "outputs": [],
   "source": []
  },
  {
   "cell_type": "code",
   "execution_count": null,
   "id": "4fb949e4",
   "metadata": {},
   "outputs": [],
   "source": []
  },
  {
   "cell_type": "code",
   "execution_count": null,
   "id": "6e488592",
   "metadata": {},
   "outputs": [],
   "source": []
  },
  {
   "cell_type": "code",
   "execution_count": null,
   "id": "ee930b83",
   "metadata": {},
   "outputs": [],
   "source": []
  },
  {
   "cell_type": "code",
   "execution_count": null,
   "id": "9bbbffb8",
   "metadata": {},
   "outputs": [],
   "source": []
  },
  {
   "cell_type": "code",
   "execution_count": null,
   "id": "9f9079fc",
   "metadata": {},
   "outputs": [],
   "source": []
  },
  {
   "cell_type": "code",
   "execution_count": null,
   "id": "01029001",
   "metadata": {},
   "outputs": [],
   "source": []
  },
  {
   "cell_type": "code",
   "execution_count": null,
   "id": "4429eb57",
   "metadata": {},
   "outputs": [],
   "source": []
  },
  {
   "cell_type": "code",
   "execution_count": null,
   "id": "b1756fab",
   "metadata": {},
   "outputs": [],
   "source": []
  },
  {
   "cell_type": "code",
   "execution_count": null,
   "id": "11904748",
   "metadata": {},
   "outputs": [],
   "source": []
  },
  {
   "cell_type": "code",
   "execution_count": null,
   "id": "b3d409c4",
   "metadata": {},
   "outputs": [],
   "source": []
  },
  {
   "cell_type": "code",
   "execution_count": null,
   "id": "44c7c759",
   "metadata": {},
   "outputs": [],
   "source": []
  },
  {
   "cell_type": "code",
   "execution_count": null,
   "id": "90a3fb63",
   "metadata": {},
   "outputs": [],
   "source": []
  },
  {
   "cell_type": "code",
   "execution_count": null,
   "id": "c9c849d9",
   "metadata": {},
   "outputs": [],
   "source": []
  },
  {
   "cell_type": "code",
   "execution_count": null,
   "id": "39f63f33",
   "metadata": {},
   "outputs": [],
   "source": []
  },
  {
   "cell_type": "code",
   "execution_count": null,
   "id": "8ee00c09",
   "metadata": {},
   "outputs": [],
   "source": []
  },
  {
   "cell_type": "code",
   "execution_count": null,
   "id": "9ab38b4e",
   "metadata": {},
   "outputs": [],
   "source": []
  },
  {
   "cell_type": "code",
   "execution_count": null,
   "id": "49b773bd",
   "metadata": {},
   "outputs": [],
   "source": []
  },
  {
   "cell_type": "code",
   "execution_count": null,
   "id": "530f4afb",
   "metadata": {},
   "outputs": [],
   "source": []
  },
  {
   "cell_type": "code",
   "execution_count": null,
   "id": "fa8da2d8",
   "metadata": {},
   "outputs": [],
   "source": []
  },
  {
   "cell_type": "code",
   "execution_count": null,
   "id": "7602f7ef",
   "metadata": {},
   "outputs": [],
   "source": []
  }
 ],
 "metadata": {
  "kernelspec": {
   "display_name": "Python 3 (ipykernel)",
   "language": "python",
   "name": "python3"
  },
  "language_info": {
   "codemirror_mode": {
    "name": "ipython",
    "version": 3
   },
   "file_extension": ".py",
   "mimetype": "text/x-python",
   "name": "python",
   "nbconvert_exporter": "python",
   "pygments_lexer": "ipython3",
   "version": "3.11.5"
  }
 },
 "nbformat": 4,
 "nbformat_minor": 5
}
