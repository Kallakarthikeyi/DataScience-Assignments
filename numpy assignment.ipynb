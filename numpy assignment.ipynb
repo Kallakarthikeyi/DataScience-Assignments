{
 "cells": [
  {
   "cell_type": "markdown",
   "id": "fd118aec",
   "metadata": {},
   "source": [
    "### Basic Array Operations:\n",
    "1. Create a 3x3 array filled with random integers between 0 and 10. Calculate the sum, mean, and standard deviation of the array.\n",
    "2. Create a 1D array of 10 elements and compute the cumulative sum of the elements.\n",
    "3. Generate two 2x3 arrays with random integers and perform element-wise addition, subtraction, multiplication, and division.\n",
    "4. Create a 4x4 identity matrix.\n",
    "5. *Given an array a = np.array([5, 10, 15, 20, 25]), divide each element by 5 using broadcasting.*\n",
    "\n",
    "### Array Manipulation:\n",
    "6. Reshape a 1D array of 12 elements into a 3x4 matrix.\n",
    "7. Flatten a 3x3 matrix into a 1D array.\n",
    "8. Stack two 3x3 matrices horizontally and vertically.\n",
    "9. Concatenate two arrays of different sizes along a new axis.\n",
    "10. Transpose a 3x2 matrix and then reshape it to have 3 rows and 2 columns.\n",
    "\n",
    "### Indexing and Slicing:\n",
    "11. Given a 1D array of 15 elements, extract elements at positions 2 to 10 with a step of 2.\n",
    "12. Create a 5x5 matrix and extract the sub-matrix containing elements from rows 1 to 3 and columns 2 to 4.\n",
    "13. Replace all elements in a 1D array greater than 10 with the value 10.\n",
    "14. *Use fancy indexing to select elements from a 1D array at positions [0, 2, 4, 6].*\n",
    "15. Create a 1D array of 10 elements and reverse it using slicing.\n",
    "\n",
    "### Broadcasting:\n",
    "16. Create a 3x3 matrix and add a 1x3 array to each row using broadcasting.\n",
    "17. Multiply a 1D array of 5 elements by a scalar value using broadcasting.\n",
    "18. Subtract a 3x1 column vector from a 3x3 matrix using broadcasting.\n",
    "19. Add a scalar to a 3D array and demonstrate how broadcasting works across all dimensions.\n",
    "20. *Create two arrays of shapes (4, 1) and (1, 5) and add them using broadcasting.*\n",
    "\n",
    "### Vectorized Operations:\n",
    "21. Compute the square root of each element in a 2D array using vectorized operations.\n",
    "22. Calculate the dot product of two 1D arrays of size 5.\n",
    "23. Perform element-wise comparison of two 1D arrays and return an array of boolean values indicating where the first array has larger elements.\n",
    "24. Create a 2D array and apply a vectorized operation to double the value of each element.\n",
    "25. Create a 1D array of 100 random integers and compute the sum of all even numbers using vectorized operations.\n",
    "\n",
    "### Linear Algebra:\n",
    "26. Create a 3x3 matrix and find its determinant.\n",
    "27. Given a 2x2 matrix, compute its inverse and verify by multiplying with the original matrix to obtain the identity matrix.\n",
    "28. Calculate the eigenvalues and eigenvectors of a 2x2 matrix.\n",
    "29. *Solve the system of linear equations 2x + 3y = 5 and 4x + 6y = 10 using NumPy.*\n",
    "30. Perform Singular Value Decomposition (SVD) on a 3x3 matrix and reconstruct the original matrix using the SVD components.\n",
    "Givecodes to them in python "
   ]
  },
  {
   "cell_type": "code",
   "execution_count": 4,
   "id": "6eb7b864",
   "metadata": {},
   "outputs": [],
   "source": [
    "import numpy as np"
   ]
  },
  {
   "cell_type": "code",
   "execution_count": 5,
   "id": "e4a40b77",
   "metadata": {},
   "outputs": [
    {
     "name": "stdout",
     "output_type": "stream",
     "text": [
      "(3, 3)\n",
      "[[ 5  0  7]\n",
      " [ 7 10  3]\n",
      " [ 3  4  0]]\n"
     ]
    }
   ],
   "source": [
    "#create a 3x3 array filled with random integers btw 0 an 10\n",
    "arr=np.random.randint(0,11,(3,3))\n",
    "print(arr.shape)\n",
    "print(arr)"
   ]
  },
  {
   "cell_type": "code",
   "execution_count": 6,
   "id": "5a6ce03e",
   "metadata": {},
   "outputs": [
    {
     "name": "stdout",
     "output_type": "stream",
     "text": [
      "array:\n",
      " [ 1  2  3  4  5  6  7  8  9 10]\n",
      "cumulative sum:\n",
      "[ 1  3  6 10 15 21 28 36 45 55]\n"
     ]
    }
   ],
   "source": [
    "#create a 1D array of 10 elements and compute the cumulative sum\n",
    "a=np.arange(1,11)\n",
    "print('array:\\n',a)\n",
    "print(\"cumulative sum:\")\n",
    "print(np.cumsum(a))"
   ]
  },
  {
   "cell_type": "code",
   "execution_count": 7,
   "id": "67f3ec0d",
   "metadata": {},
   "outputs": [
    {
     "name": "stdout",
     "output_type": "stream",
     "text": [
      "[[6 8 0]\n",
      " [3 2 5]] [[4 8 6]\n",
      " [7 8 5]]\n",
      "addition: [[10 16  6]\n",
      " [10 10 10]]\n",
      "subtraction: [[ 2  0 -6]\n",
      " [-4 -6  0]]\n",
      "multiplication: [[24 64  0]\n",
      " [21 16 25]]\n",
      "division: [[1.5        1.         0.        ]\n",
      " [0.42857143 0.25       1.        ]]\n"
     ]
    }
   ],
   "source": [
    "#generate two 2x3 arrays with random integers and perform element wise operations\n",
    "a1=np.random.randint(0,10,(2,3))\n",
    "a2=np.random.randint(0,10,(2,3))\n",
    "print(a1,a2)\n",
    "print(\"addition:\",a1+a2)\n",
    "print(\"subtraction:\",a1-a2)\n",
    "print(\"multiplication:\",a1*a2)\n",
    "print(\"division:\",a1/a2)"
   ]
  },
  {
   "cell_type": "code",
   "execution_count": 8,
   "id": "5539ed43",
   "metadata": {},
   "outputs": [
    {
     "name": "stdout",
     "output_type": "stream",
     "text": [
      "identity matrix:\n",
      " [[1. 0. 0. 0.]\n",
      " [0. 1. 0. 0.]\n",
      " [0. 0. 1. 0.]\n",
      " [0. 0. 0. 1.]]\n"
     ]
    }
   ],
   "source": [
    "#create 4x4 identity matrix\n",
    "i=np.eye(4)\n",
    "print(\"identity matrix:\\n\",i)"
   ]
  },
  {
   "cell_type": "code",
   "execution_count": 9,
   "id": "82def4ed",
   "metadata": {},
   "outputs": [
    {
     "name": "stdout",
     "output_type": "stream",
     "text": [
      "\n",
      "Divided by 5: [1. 2. 3. 4. 5.]\n"
     ]
    }
   ],
   "source": [
    "#Given an array a = np.array([5, 10, 15, 20, 25]), divide each element by 5 using broadcasting.\n",
    "a = np.array([5, 10, 15, 20, 25])\n",
    "print(\"\\nDivided by 5:\", a / 5)"
   ]
  },
  {
   "cell_type": "code",
   "execution_count": 10,
   "id": "989b7ba8",
   "metadata": {},
   "outputs": [
    {
     "name": "stdout",
     "output_type": "stream",
     "text": [
      "[[ 0  1  2  3]\n",
      " [ 4  5  6  7]\n",
      " [ 8  9 10 11]]\n"
     ]
    }
   ],
   "source": [
    "#Reshape a 1D array of 12 elements into a 3x4 matrix.\n",
    "a3=np.arange(12)\n",
    "r=a3.reshape(3,4)\n",
    "print(r)"
   ]
  },
  {
   "cell_type": "code",
   "execution_count": 11,
   "id": "13e9a894",
   "metadata": {},
   "outputs": [
    {
     "name": "stdout",
     "output_type": "stream",
     "text": [
      "[ 0  1  2  3  4  5  6  7  8  9 10 11]\n"
     ]
    }
   ],
   "source": [
    "#Flatten a 3x3 matrix into a 1D array.\n",
    "f=r.flatten()\n",
    "print(f)"
   ]
  },
  {
   "cell_type": "code",
   "execution_count": 12,
   "id": "5fb5c516",
   "metadata": {},
   "outputs": [
    {
     "name": "stdout",
     "output_type": "stream",
     "text": [
      "horizontal stack:\n",
      " [[1 8 2 2 8 4]\n",
      " [2 4 1 1 2 7]\n",
      " [7 8 2 2 1 1]]\n",
      "vertical stack:\n",
      " [[1 8 2]\n",
      " [2 4 1]\n",
      " [7 8 2]\n",
      " [2 8 4]\n",
      " [1 2 7]\n",
      " [2 1 1]]\n"
     ]
    }
   ],
   "source": [
    "#Stack two 3x3 matrices horizontally and vertically.\n",
    "a4=np.random.randint(0,10,(3,3))\n",
    "a5=np.random.randint(0,10,(3,3))\n",
    "print(\"horizontal stack:\\n\",np.hstack((a4,a5)))\n",
    "print(\"vertical stack:\\n\",np.vstack((a4,a5)))"
   ]
  },
  {
   "cell_type": "code",
   "execution_count": 13,
   "id": "1d76967e",
   "metadata": {},
   "outputs": [
    {
     "data": {
      "text/plain": [
       "array([1, 2, 3, 3, 4])"
      ]
     },
     "execution_count": 13,
     "metadata": {},
     "output_type": "execute_result"
    }
   ],
   "source": [
    "#Concatenate two arrays of different sizes along a new axis.\n",
    "a6=np.array([1,2,3])\n",
    "a7=np.array([3,4])\n",
    "np.concatenate((a6,a7),axis=0)"
   ]
  },
  {
   "cell_type": "code",
   "execution_count": 14,
   "id": "69c45d1a",
   "metadata": {},
   "outputs": [
    {
     "name": "stdout",
     "output_type": "stream",
     "text": [
      "[[0 0 1]\n",
      " [1 2 4]]\n",
      "transposed:\n",
      " [[0 1]\n",
      " [0 2]\n",
      " [1 4]]\n"
     ]
    }
   ],
   "source": [
    "#Transpose a 3x2 matrix and then reshape it to have 3 rows and 2 columns.\n",
    "t=np.array([[0,0,1],[1,2,4]])\n",
    "print(t)\n",
    "print(\"transposed:\\n\",t.T)"
   ]
  },
  {
   "cell_type": "code",
   "execution_count": 15,
   "id": "f5fbaef3",
   "metadata": {},
   "outputs": [
    {
     "data": {
      "text/plain": [
       "array([ 2,  4,  6,  8, 10])"
      ]
     },
     "execution_count": 15,
     "metadata": {},
     "output_type": "execute_result"
    }
   ],
   "source": [
    "#Given a 1D array of 15 elements, extract elements at positions 2 to 10 with a step of 2.\n",
    "f=np.arange(0,16)\n",
    "f[2:11:2]"
   ]
  },
  {
   "cell_type": "code",
   "execution_count": 16,
   "id": "321d3c15",
   "metadata": {},
   "outputs": [
    {
     "name": "stdout",
     "output_type": "stream",
     "text": [
      "\n",
      "5x5 Matrix:\n",
      " [[57 72 60 85  4]\n",
      " [87  5 65 29 55]\n",
      " [33 15 74  9 52]\n",
      " [85 52 81 82 34]\n",
      " [35 51 40  7 70]]\n",
      "Sub-matrix:\n",
      " [[65 29 55]\n",
      " [74  9 52]\n",
      " [81 82 34]]\n"
     ]
    }
   ],
   "source": [
    "#Create a 5x5 matrix and extract the sub-matrix containing elements from rows 1 to 3 and columns 2 to 4.\n",
    "ar = np.random.randint(0, 100, (5, 5))\n",
    "print(\"\\n5x5 Matrix:\\n\", ar)\n",
    "print(\"Sub-matrix:\\n\", ar[1:4, 2:5])"
   ]
  },
  {
   "cell_type": "code",
   "execution_count": 17,
   "id": "538b4a6b",
   "metadata": {},
   "outputs": [
    {
     "name": "stdout",
     "output_type": "stream",
     "text": [
      "[[10 10 10 10  4]\n",
      " [10  5 10 10 10]\n",
      " [10 10 10  9 10]\n",
      " [10 10 10 10 10]\n",
      " [10 10 10  7 10]]\n"
     ]
    }
   ],
   "source": [
    "#Replace all elements in a 1D array greater than 10 with the value 10.\n",
    "ar[ar>10]=10\n",
    "print(ar)"
   ]
  },
  {
   "cell_type": "code",
   "execution_count": 18,
   "id": "b9e884be",
   "metadata": {},
   "outputs": [
    {
     "data": {
      "text/plain": [
       "array([8, 3, 7, 5])"
      ]
     },
     "execution_count": 18,
     "metadata": {},
     "output_type": "execute_result"
    }
   ],
   "source": [
    "#Use fancy indexing to select elements from a 1D array at positions [0, 2, 4, 6].\n",
    "fi=np.random.randint(0,10,(10,))\n",
    "fi[[0,2,4,6]]\n"
   ]
  },
  {
   "cell_type": "code",
   "execution_count": 19,
   "id": "057a7eaa",
   "metadata": {},
   "outputs": [
    {
     "data": {
      "text/plain": [
       "array([4, 6, 6, 8, 1, 0, 0, 0, 8, 7])"
      ]
     },
     "execution_count": 19,
     "metadata": {},
     "output_type": "execute_result"
    }
   ],
   "source": [
    "#Create a 1D array of 10 elements and reverse it using slicing.\n",
    "fi=np.random.randint(0,10,(10,))\n",
    "fi[::-1]"
   ]
  },
  {
   "cell_type": "code",
   "execution_count": 20,
   "id": "41a8c039",
   "metadata": {},
   "outputs": [
    {
     "name": "stdout",
     "output_type": "stream",
     "text": [
      "\n",
      "Broadcasted Addition:\n",
      " [[ 4 11 11]\n",
      " [ 1  4  6]\n",
      " [ 9  4  6]]\n"
     ]
    }
   ],
   "source": [
    "#Create a 3x3 matrix and add a 1x3 array to each row using broadcasting.\n",
    "a = np.random.randint(0, 10, (3, 3))\n",
    "ar = np.array([1, 2, 3])\n",
    "print(\"\\nBroadcasted Addition:\\n\", a + ar)"
   ]
  },
  {
   "cell_type": "code",
   "execution_count": 21,
   "id": "3711fc71",
   "metadata": {},
   "outputs": [
    {
     "data": {
      "text/plain": [
       "array([ 5, 10, 15])"
      ]
     },
     "execution_count": 21,
     "metadata": {},
     "output_type": "execute_result"
    }
   ],
   "source": [
    "#Multiply a 1D array of 5 elements by a scalar value using broadcasting.\n",
    "ar*5"
   ]
  },
  {
   "cell_type": "code",
   "execution_count": 22,
   "id": "5ec1555a",
   "metadata": {},
   "outputs": [
    {
     "name": "stdout",
     "output_type": "stream",
     "text": [
      "[[3 0 4]\n",
      " [9 4 1]\n",
      " [8 2 3]]\n",
      "[[1]\n",
      " [2]\n",
      " [3]]\n",
      "\n",
      "Broadcasted Subtraction:\n",
      " [[ 2 -1  3]\n",
      " [ 7  2 -1]\n",
      " [ 5 -1  0]]\n"
     ]
    }
   ],
   "source": [
    "#Subtract a 3x1 column vector from a 3x3 matrix using broadcasting.\n",
    "o = np.random.randint(0, 10, (3, 3))\n",
    "t = np.array([[1], [2], [3]])\n",
    "print(o)\n",
    "print(t)\n",
    "print(\"\\nBroadcasted Subtraction:\\n\", o-t)"
   ]
  },
  {
   "cell_type": "code",
   "execution_count": 23,
   "id": "0177d626",
   "metadata": {},
   "outputs": [
    {
     "name": "stdout",
     "output_type": "stream",
     "text": [
      "[[23 20 24]\n",
      " [29 24 21]\n",
      " [28 22 23]]\n"
     ]
    }
   ],
   "source": [
    "#Add a scalar to a 3D array and demonstrate how broadcasting works across all dimensions.\n",
    "print(o+20)"
   ]
  },
  {
   "cell_type": "code",
   "execution_count": 24,
   "id": "8d9ebde8",
   "metadata": {},
   "outputs": [
    {
     "name": "stdout",
     "output_type": "stream",
     "text": [
      "\n",
      "Broadcasted Addition:\n",
      " [[0 1 2 3 4]\n",
      " [1 2 3 4 5]\n",
      " [2 3 4 5 6]\n",
      " [3 4 5 6 7]]\n"
     ]
    }
   ],
   "source": [
    "#Create two arrays of shapes (4, 1) and (1, 5) and add them using broadcasting.\n",
    "f = np.arange(4).reshape(4, 1)\n",
    "o = np.arange(5).reshape(1, 5)\n",
    "print(\"\\nBroadcasted Addition:\\n\", f + o)"
   ]
  },
  {
   "cell_type": "code",
   "execution_count": 25,
   "id": "aadcad3a",
   "metadata": {},
   "outputs": [
    {
     "name": "stdout",
     "output_type": "stream",
     "text": [
      "[[9.94987437 6.78232998 7.14142843]\n",
      " [8.48528137 9.89949494 9.64365076]]\n"
     ]
    }
   ],
   "source": [
    "#Compute the square root of each element in a 2D array using vectorized operations.\n",
    "sq=np.random.randint(1,100,(2,3))\n",
    "print(np.sqrt(sq))"
   ]
  },
  {
   "cell_type": "code",
   "execution_count": 26,
   "id": "92bbecdb",
   "metadata": {},
   "outputs": [
    {
     "data": {
      "text/plain": [
       "56"
      ]
     },
     "execution_count": 26,
     "metadata": {},
     "output_type": "execute_result"
    }
   ],
   "source": [
    "#Calculate the dot product of two 1D arrays of size 5.\n",
    "d1=np.array([2,2,4,6,7])\n",
    "d2=np.arange(0,5)\n",
    "np.dot(d1,d2)"
   ]
  },
  {
   "cell_type": "code",
   "execution_count": 27,
   "id": "94cacfc7",
   "metadata": {},
   "outputs": [
    {
     "name": "stdout",
     "output_type": "stream",
     "text": [
      "[ True  True  True  True  True]\n"
     ]
    }
   ],
   "source": [
    "#Perform element-wise comparison of two 1D arrays and return an array of boolean values indicating where the first array has larger elements.\n",
    "print(d1>d2)"
   ]
  },
  {
   "cell_type": "code",
   "execution_count": 28,
   "id": "de529df9",
   "metadata": {},
   "outputs": [
    {
     "data": {
      "text/plain": [
       "array([[164,  12,  84],\n",
       "       [160, 122, 108]])"
      ]
     },
     "execution_count": 28,
     "metadata": {},
     "output_type": "execute_result"
    }
   ],
   "source": [
    "#Create a 2D array and apply a vectorized operation to double the value of each element.\n",
    "sq=np.random.randint(1,100,(2,3))\n",
    "sq*2"
   ]
  },
  {
   "cell_type": "code",
   "execution_count": 29,
   "id": "f34efb4e",
   "metadata": {},
   "outputs": [
    {
     "data": {
      "text/plain": [
       "2450"
      ]
     },
     "execution_count": 29,
     "metadata": {},
     "output_type": "execute_result"
    }
   ],
   "source": [
    "#Create a 1D array of 100 random integers and compute the sum of all even numbers using vectorized operations.\n",
    "h=np.arange(0,100)\n",
    "np.sum(h[h%2==0])\n"
   ]
  },
  {
   "cell_type": "code",
   "execution_count": 30,
   "id": "e7dd0f9e",
   "metadata": {},
   "outputs": [
    {
     "data": {
      "text/plain": [
       "277314.0000000001"
      ]
     },
     "execution_count": 30,
     "metadata": {},
     "output_type": "execute_result"
    }
   ],
   "source": [
    "#Create a 3x3 matrix and find its determinant.\n",
    "h=np.random.randint(0,100,(3,3))\n",
    "np.linalg.det(h)\n"
   ]
  },
  {
   "cell_type": "code",
   "execution_count": 31,
   "id": "14345079",
   "metadata": {},
   "outputs": [
    {
     "name": "stdout",
     "output_type": "stream",
     "text": [
      "\n",
      "Inverse Matrix:\n",
      " [[ 0.6 -0.7]\n",
      " [-0.2  0.4]]\n",
      "Verification:\n",
      " [[ 1.00000000e+00  0.00000000e+00]\n",
      " [-2.22044605e-16  1.00000000e+00]]\n"
     ]
    }
   ],
   "source": [
    "#Given a 2x2 matrix, compute its inverse and verify by multiplying with the original matrix to obtain the identity matrix.\n",
    "i = np.array([[4, 7], [2, 6]])\n",
    "inverse = np.linalg.inv(i)\n",
    "print(\"\\nInverse Matrix:\\n\", inverse)\n",
    "print(\"Verification:\\n\", np.dot(i, inverse))\n"
   ]
  },
  {
   "cell_type": "code",
   "execution_count": 32,
   "id": "bd8eaab5",
   "metadata": {},
   "outputs": [
    {
     "name": "stdout",
     "output_type": "stream",
     "text": [
      "\n",
      "Eigenvalues: [1.12701665 8.87298335]\n",
      "Eigenvectors:\n",
      " [[-0.92511345 -0.82071729]\n",
      " [ 0.37969079 -0.57133452]]\n"
     ]
    }
   ],
   "source": [
    "#Calculate the eigenvalues and eigenvectors of a 2x2 matrix.\n",
    "val, vec = np.linalg.eig(i)\n",
    "print(\"\\nEigenvalues:\", val)\n",
    "print(\"Eigenvectors:\\n\", vec)"
   ]
  },
  {
   "cell_type": "code",
   "execution_count": 33,
   "id": "a99a6a8b",
   "metadata": {},
   "outputs": [
    {
     "name": "stdout",
     "output_type": "stream",
     "text": [
      "\n",
      "Least-squares solution: [0.76923077 1.15384615]\n"
     ]
    }
   ],
   "source": [
    "#Solve the system of linear equations 2x + 3y = 5 and 4x + 6y = 10 using NumPy.\n",
    "coefficients = np.array([[2, 3], [4, 6]])\n",
    "constants = np.array([5, 10])\n",
    "\n",
    "\n",
    "solution, residuals, rank, s = np.linalg.lstsq(coefficients, constants, rcond=None)\n",
    "print(\"\\nLeast-squares solution:\", solution)\n"
   ]
  },
  {
   "cell_type": "code",
   "execution_count": 34,
   "id": "3eebc4ff",
   "metadata": {},
   "outputs": [
    {
     "name": "stdout",
     "output_type": "stream",
     "text": [
      "\n",
      "Reconstructed Matrix:\n",
      " [[1. 2. 3.]\n",
      " [4. 5. 6.]\n",
      " [7. 8. 9.]]\n"
     ]
    }
   ],
   "source": [
    "#Perform Singular Value Decomposition (SVD) on a 3x3 matrix and reconstruct the original matrix using the SVD components. Givecodes to them in python\n",
    "arr27 = np.array([[1, 2, 3],\n",
    "                  [4, 5, 6],\n",
    "                  [7, 8, 9]])\n",
    "\n",
    "\n",
    "U, S, Vt = np.linalg.svd(arr27)\n",
    "\n",
    "\n",
    "reconstructed = U @ np.diag(S) @ Vt\n",
    "print(\"\\nReconstructed Matrix:\\n\", reconstructed)\n"
   ]
  },
  {
   "cell_type": "code",
   "execution_count": null,
   "id": "e19714fd",
   "metadata": {},
   "outputs": [],
   "source": []
  },
  {
   "cell_type": "code",
   "execution_count": null,
   "id": "081596cb",
   "metadata": {},
   "outputs": [],
   "source": []
  },
  {
   "cell_type": "code",
   "execution_count": null,
   "id": "b4ff313e",
   "metadata": {},
   "outputs": [],
   "source": []
  },
  {
   "cell_type": "code",
   "execution_count": null,
   "id": "fcc88370",
   "metadata": {},
   "outputs": [],
   "source": []
  },
  {
   "cell_type": "code",
   "execution_count": null,
   "id": "c30a78b5",
   "metadata": {},
   "outputs": [],
   "source": []
  },
  {
   "cell_type": "code",
   "execution_count": null,
   "id": "62d4d2f9",
   "metadata": {},
   "outputs": [],
   "source": []
  },
  {
   "cell_type": "code",
   "execution_count": null,
   "id": "84eea23e",
   "metadata": {},
   "outputs": [],
   "source": []
  },
  {
   "cell_type": "code",
   "execution_count": null,
   "id": "c31412f4",
   "metadata": {},
   "outputs": [],
   "source": []
  },
  {
   "cell_type": "code",
   "execution_count": null,
   "id": "a5ebf09d",
   "metadata": {},
   "outputs": [],
   "source": []
  },
  {
   "cell_type": "code",
   "execution_count": null,
   "id": "04728674",
   "metadata": {},
   "outputs": [],
   "source": []
  },
  {
   "cell_type": "code",
   "execution_count": null,
   "id": "9f3031ed",
   "metadata": {},
   "outputs": [],
   "source": []
  },
  {
   "cell_type": "code",
   "execution_count": null,
   "id": "bdd2c614",
   "metadata": {},
   "outputs": [],
   "source": []
  },
  {
   "cell_type": "code",
   "execution_count": null,
   "id": "bdda4071",
   "metadata": {},
   "outputs": [],
   "source": []
  },
  {
   "cell_type": "code",
   "execution_count": null,
   "id": "7ef3fded",
   "metadata": {},
   "outputs": [],
   "source": []
  },
  {
   "cell_type": "code",
   "execution_count": null,
   "id": "21c9a849",
   "metadata": {},
   "outputs": [],
   "source": []
  },
  {
   "cell_type": "code",
   "execution_count": null,
   "id": "dccba1ee",
   "metadata": {},
   "outputs": [],
   "source": []
  },
  {
   "cell_type": "code",
   "execution_count": null,
   "id": "8f556ed4",
   "metadata": {},
   "outputs": [],
   "source": []
  },
  {
   "cell_type": "code",
   "execution_count": null,
   "id": "1b9d07b4",
   "metadata": {},
   "outputs": [],
   "source": []
  },
  {
   "cell_type": "code",
   "execution_count": null,
   "id": "7bf92a02",
   "metadata": {},
   "outputs": [],
   "source": []
  },
  {
   "cell_type": "code",
   "execution_count": null,
   "id": "1d53fa77",
   "metadata": {},
   "outputs": [],
   "source": []
  },
  {
   "cell_type": "code",
   "execution_count": null,
   "id": "babd7da6",
   "metadata": {},
   "outputs": [],
   "source": []
  },
  {
   "cell_type": "code",
   "execution_count": null,
   "id": "40ac9ad3",
   "metadata": {},
   "outputs": [],
   "source": []
  },
  {
   "cell_type": "code",
   "execution_count": null,
   "id": "0c72296b",
   "metadata": {},
   "outputs": [],
   "source": []
  },
  {
   "cell_type": "code",
   "execution_count": null,
   "id": "afbf58cb",
   "metadata": {},
   "outputs": [],
   "source": []
  },
  {
   "cell_type": "code",
   "execution_count": null,
   "id": "e8dafe75",
   "metadata": {},
   "outputs": [],
   "source": []
  },
  {
   "cell_type": "code",
   "execution_count": null,
   "id": "04f32877",
   "metadata": {},
   "outputs": [],
   "source": []
  },
  {
   "cell_type": "code",
   "execution_count": null,
   "id": "5cc4a282",
   "metadata": {},
   "outputs": [],
   "source": []
  },
  {
   "cell_type": "code",
   "execution_count": null,
   "id": "3c0c1cbb",
   "metadata": {},
   "outputs": [],
   "source": []
  },
  {
   "cell_type": "code",
   "execution_count": null,
   "id": "6ce4619f",
   "metadata": {},
   "outputs": [],
   "source": []
  },
  {
   "cell_type": "code",
   "execution_count": null,
   "id": "c8e6710e",
   "metadata": {},
   "outputs": [],
   "source": []
  },
  {
   "cell_type": "code",
   "execution_count": null,
   "id": "037bfd6d",
   "metadata": {},
   "outputs": [],
   "source": []
  },
  {
   "cell_type": "code",
   "execution_count": null,
   "id": "8a31348f",
   "metadata": {},
   "outputs": [],
   "source": []
  },
  {
   "cell_type": "code",
   "execution_count": null,
   "id": "4fb949e4",
   "metadata": {},
   "outputs": [],
   "source": []
  },
  {
   "cell_type": "code",
   "execution_count": null,
   "id": "6e488592",
   "metadata": {},
   "outputs": [],
   "source": []
  },
  {
   "cell_type": "code",
   "execution_count": null,
   "id": "ee930b83",
   "metadata": {},
   "outputs": [],
   "source": []
  },
  {
   "cell_type": "code",
   "execution_count": null,
   "id": "9bbbffb8",
   "metadata": {},
   "outputs": [],
   "source": []
  },
  {
   "cell_type": "code",
   "execution_count": null,
   "id": "9f9079fc",
   "metadata": {},
   "outputs": [],
   "source": []
  },
  {
   "cell_type": "code",
   "execution_count": null,
   "id": "01029001",
   "metadata": {},
   "outputs": [],
   "source": []
  },
  {
   "cell_type": "code",
   "execution_count": null,
   "id": "4429eb57",
   "metadata": {},
   "outputs": [],
   "source": []
  },
  {
   "cell_type": "code",
   "execution_count": null,
   "id": "b1756fab",
   "metadata": {},
   "outputs": [],
   "source": []
  },
  {
   "cell_type": "code",
   "execution_count": null,
   "id": "11904748",
   "metadata": {},
   "outputs": [],
   "source": []
  },
  {
   "cell_type": "code",
   "execution_count": null,
   "id": "b3d409c4",
   "metadata": {},
   "outputs": [],
   "source": []
  },
  {
   "cell_type": "code",
   "execution_count": null,
   "id": "44c7c759",
   "metadata": {},
   "outputs": [],
   "source": []
  },
  {
   "cell_type": "code",
   "execution_count": null,
   "id": "90a3fb63",
   "metadata": {},
   "outputs": [],
   "source": []
  },
  {
   "cell_type": "code",
   "execution_count": null,
   "id": "c9c849d9",
   "metadata": {},
   "outputs": [],
   "source": []
  },
  {
   "cell_type": "code",
   "execution_count": null,
   "id": "39f63f33",
   "metadata": {},
   "outputs": [],
   "source": []
  },
  {
   "cell_type": "code",
   "execution_count": null,
   "id": "8ee00c09",
   "metadata": {},
   "outputs": [],
   "source": []
  },
  {
   "cell_type": "code",
   "execution_count": null,
   "id": "9ab38b4e",
   "metadata": {},
   "outputs": [],
   "source": []
  },
  {
   "cell_type": "code",
   "execution_count": null,
   "id": "49b773bd",
   "metadata": {},
   "outputs": [],
   "source": []
  },
  {
   "cell_type": "code",
   "execution_count": null,
   "id": "530f4afb",
   "metadata": {},
   "outputs": [],
   "source": []
  },
  {
   "cell_type": "code",
   "execution_count": null,
   "id": "fa8da2d8",
   "metadata": {},
   "outputs": [],
   "source": []
  },
  {
   "cell_type": "code",
   "execution_count": null,
   "id": "7602f7ef",
   "metadata": {},
   "outputs": [],
   "source": []
  }
 ],
 "metadata": {
  "kernelspec": {
   "display_name": "Python 3 (ipykernel)",
   "language": "python",
   "name": "python3"
  },
  "language_info": {
   "codemirror_mode": {
    "name": "ipython",
    "version": 3
   },
   "file_extension": ".py",
   "mimetype": "text/x-python",
   "name": "python",
   "nbconvert_exporter": "python",
   "pygments_lexer": "ipython3",
   "version": "3.11.5"
  }
 },
 "nbformat": 4,
 "nbformat_minor": 5
}
