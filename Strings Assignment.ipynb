{
 "cells": [
  {
   "cell_type": "markdown",
   "id": "bb00e962",
   "metadata": {},
   "source": [
    "### Basic String Manipulation:\n",
    "\n",
    "1. Assign the string \"Hello, World!\" to a variable and print it.\n",
    "\n",
    "2. Create a string \"Python Programming\" and extract the first five characters using slicing.\n",
    "\n",
    "### String Methods:\n",
    "\n",
    "1. Given a string \"python is fun\", convert it to uppercase.\n",
    "\n",
    "2. Replace \"fun\" with \"awesome\" in the string \"Python is fun\".\n",
    "\n",
    "### String Formatting:\n",
    "\n",
    "1. Use f-string formatting to create a message like \"My name is John, and I am 25 years old.\", where the name and age are variables.\n",
    "\n",
    "2. Given a price of 49.99, format it to display only two decimal places.\n",
    "\n",
    "### String Functions:\n",
    "\n",
    "1. Count the occurrences of the letter 'o' in \"Hello, how are you?\".\n",
    "\n",
    "2. Find the position of \"world\" in \"Hello, world! Python is amazing.\".\n",
    "\n",
    "### Reverse and Check:\n",
    "\n",
    "1. Reverse the string \"Python\" using slicing.\n",
    "\n",
    "2. Check if \"madam\" is a palindrome (a word that reads the same forward and backward).\n"
   ]
  },
  {
   "cell_type": "code",
   "execution_count": 1,
   "id": "48e36d26",
   "metadata": {},
   "outputs": [
    {
     "name": "stdout",
     "output_type": "stream",
     "text": [
      "Hello, World!\n",
      "Pytho\n"
     ]
    }
   ],
   "source": [
    "# Assign the string \"Hello, World!\" to a variable and print it.\n",
    "message = \"Hello, World!\"\n",
    "print(message)\n",
    "\n",
    "# Create a string \"Python Programming\" and extract the first five characters using slicing.\n",
    "text = \"Python Programming\"\n",
    "print(text[:5])"
   ]
  },
  {
   "cell_type": "code",
   "execution_count": 3,
   "id": "9e414199",
   "metadata": {},
   "outputs": [
    {
     "name": "stdout",
     "output_type": "stream",
     "text": [
      "PYTHON IS FUN\n",
      "Python is awesome\n"
     ]
    }
   ],
   "source": [
    "# Given a string \"python is fun\", convert it to uppercase.\n",
    "s = \"python is fun\"\n",
    "print(s.upper())\n",
    "\n",
    "# Replace \"fun\" with \"awesome\" in the string \"Python is fun\".\n",
    "s2 = \"Python is fun\"\n",
    "print(s2.replace(\"fun\", \"awesome\"))"
   ]
  },
  {
   "cell_type": "code",
   "execution_count": 4,
   "id": "13654776",
   "metadata": {},
   "outputs": [
    {
     "name": "stdout",
     "output_type": "stream",
     "text": [
      "My name is John, and I am 25 years old.\n",
      "49.99\n"
     ]
    }
   ],
   "source": [
    "# Use f-string formatting to create a message with name and age variables.\n",
    "name = \"John\"\n",
    "age = 25\n",
    "print(f\"My name is {name}, and I am {age} years old.\")\n",
    "\n",
    "# Given a price of 49.99, format it to display only two decimal places.\n",
    "price = 49.99\n",
    "print(f\"{price:.2f}\")"
   ]
  },
  {
   "cell_type": "code",
   "execution_count": 5,
   "id": "ce216d70",
   "metadata": {},
   "outputs": [
    {
     "name": "stdout",
     "output_type": "stream",
     "text": [
      "3\n",
      "7\n"
     ]
    }
   ],
   "source": [
    "# Count the occurrences of the letter 'o' in \"Hello, how are you?\".\n",
    "sentence = \"Hello, how are you?\"\n",
    "print(sentence.count('o'))\n",
    "\n",
    "# Find the position of \"world\" in \"Hello, world! Python is amazing.\".\n",
    "sentence2 = \"Hello, world! Python is amazing.\"\n",
    "print(sentence2.find(\"world\"))"
   ]
  },
  {
   "cell_type": "code",
   "execution_count": 6,
   "id": "77829b48",
   "metadata": {},
   "outputs": [
    {
     "name": "stdout",
     "output_type": "stream",
     "text": [
      "nohtyP\n",
      "True\n"
     ]
    }
   ],
   "source": [
    "# Reverse the string \"Python\" using slicing.\n",
    "word = \"Python\"\n",
    "print(word[::-1])\n",
    "\n",
    "# Check if \"madam\" is a palindrome.\n",
    "palindrome = \"madam\"\n",
    "print(palindrome == palindrome[::-1])  # True if it's a palindrome"
   ]
  },
  {
   "cell_type": "code",
   "execution_count": null,
   "id": "fd08c6a2",
   "metadata": {},
   "outputs": [],
   "source": []
  },
  {
   "cell_type": "code",
   "execution_count": null,
   "id": "9d3d8e9d",
   "metadata": {},
   "outputs": [],
   "source": []
  },
  {
   "cell_type": "code",
   "execution_count": null,
   "id": "96728524",
   "metadata": {},
   "outputs": [],
   "source": []
  },
  {
   "cell_type": "code",
   "execution_count": null,
   "id": "4d736c7b",
   "metadata": {},
   "outputs": [],
   "source": []
  },
  {
   "cell_type": "code",
   "execution_count": null,
   "id": "d4c8a2bc",
   "metadata": {},
   "outputs": [],
   "source": []
  },
  {
   "cell_type": "code",
   "execution_count": null,
   "id": "877497e7",
   "metadata": {},
   "outputs": [],
   "source": []
  },
  {
   "cell_type": "code",
   "execution_count": null,
   "id": "be6ebf9b",
   "metadata": {},
   "outputs": [],
   "source": []
  },
  {
   "cell_type": "code",
   "execution_count": null,
   "id": "f1311e0b",
   "metadata": {},
   "outputs": [],
   "source": []
  },
  {
   "cell_type": "code",
   "execution_count": null,
   "id": "d20d2c97",
   "metadata": {},
   "outputs": [],
   "source": []
  },
  {
   "cell_type": "code",
   "execution_count": null,
   "id": "5ab5de3b",
   "metadata": {},
   "outputs": [],
   "source": []
  },
  {
   "cell_type": "code",
   "execution_count": null,
   "id": "fdc9aeba",
   "metadata": {},
   "outputs": [],
   "source": []
  },
  {
   "cell_type": "code",
   "execution_count": null,
   "id": "2fb236cb",
   "metadata": {},
   "outputs": [],
   "source": []
  },
  {
   "cell_type": "code",
   "execution_count": null,
   "id": "5fd834f0",
   "metadata": {},
   "outputs": [],
   "source": []
  },
  {
   "cell_type": "code",
   "execution_count": null,
   "id": "d374af90",
   "metadata": {},
   "outputs": [],
   "source": []
  },
  {
   "cell_type": "code",
   "execution_count": null,
   "id": "b007bcfc",
   "metadata": {},
   "outputs": [],
   "source": []
  },
  {
   "cell_type": "code",
   "execution_count": null,
   "id": "97e79097",
   "metadata": {},
   "outputs": [],
   "source": []
  },
  {
   "cell_type": "code",
   "execution_count": null,
   "id": "41989a45",
   "metadata": {},
   "outputs": [],
   "source": []
  },
  {
   "cell_type": "code",
   "execution_count": null,
   "id": "e91fe938",
   "metadata": {},
   "outputs": [],
   "source": []
  }
 ],
 "metadata": {
  "kernelspec": {
   "display_name": "Python 3 (ipykernel)",
   "language": "python",
   "name": "python3"
  },
  "language_info": {
   "codemirror_mode": {
    "name": "ipython",
    "version": 3
   },
   "file_extension": ".py",
   "mimetype": "text/x-python",
   "name": "python",
   "nbconvert_exporter": "python",
   "pygments_lexer": "ipython3",
   "version": "3.11.5"
  }
 },
 "nbformat": 4,
 "nbformat_minor": 5
}
